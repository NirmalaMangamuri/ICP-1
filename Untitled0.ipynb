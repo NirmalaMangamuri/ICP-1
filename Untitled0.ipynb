{
  "nbformat": 4,
  "nbformat_minor": 0,
  "metadata": {
    "colab": {
      "provenance": [],
      "authorship_tag": "ABX9TyNIleXBgtx5lbx0bprFBhvB",
      "include_colab_link": true
    },
    "kernelspec": {
      "name": "python3",
      "display_name": "Python 3"
    },
    "language_info": {
      "name": "python"
    }
  },
  "cells": [
    {
      "cell_type": "markdown",
      "metadata": {
        "id": "view-in-github",
        "colab_type": "text"
      },
      "source": [
        "<a href=\"https://colab.research.google.com/github/NirmalaMangamuri/ICP-1/blob/main/Untitled0.ipynb\" target=\"_parent\"><img src=\"https://colab.research.google.com/assets/colab-badge.svg\" alt=\"Open In Colab\"/></a>"
      ]
    },
    {
      "cell_type": "code",
      "execution_count": null,
      "metadata": {
        "id": "Jx--2W5mcLlL"
      },
      "outputs": [],
      "source": [
        "#5.A\n",
        "\n",
        "input_string = input(\"Enter a string: \")\n",
        "char_list = list(input_string)\n",
        "char_list.pop(2)\n",
        "char_list.pop(3)\n",
        "reversed_string = ''.join(reversed(char_list))\n",
        "print(\"Reversed String:\", reversed_string)\n",
        "\n"
      ]
    },
    {
      "cell_type": "code",
      "source": [
        "\n",
        "#5 B\n",
        "A= float(input(\"Enter the first number: \"))\n",
        "B= float(input(\"Enter the second number: \"))\n",
        "addition = A+B\n",
        "subtraction = A-B\n",
        "multiplication = A * B\n",
        "division = A/B if B != 0 else \"undefined (cannot divide by zero)\"\n",
        "print(f\"Addition: {A} + {B} = {addition}\")\n",
        "print(f\"Subtraction: {A} - {B} = {subtraction}\")\n",
        "print(f\"Multiplication: {A} * {B} = {multiplication}\")\n",
        "print(f\"Division: {A} / {B} = {division}\")"
      ],
      "metadata": {
        "id": "SGD2gBueiMFO"
      },
      "execution_count": null,
      "outputs": []
    },
    {
      "cell_type": "markdown",
      "source": [],
      "metadata": {
        "id": "os3QmKAIe4IE"
      }
    },
    {
      "cell_type": "code",
      "source": [
        "#6\n",
        "sentence = input(\"Enter a sentence: \")\n",
        "updated_sentence = sentence.replace(\"colab\", \"Google colab\")\n",
        "print(\"Updated Sentence:\", updated_sentence)"
      ],
      "metadata": {
        "id": "UZNYakXCh82c"
      },
      "execution_count": null,
      "outputs": []
    },
    {
      "cell_type": "code",
      "source": [
        "#7\n",
        "score = float(input(\"Enter the class score (0–100): \"))\n",
        "if score >= 90 and score <= 100:\n",
        "    grade = \"A\"\n",
        "elif score >= 80 and score < 90:\n",
        "    grade = \"B\"\n",
        "elif score >= 70 and score < 80:\n",
        "    grade = \"C\"\n",
        "elif score >= 60 and score < 70:\n",
        "    grade = \"D\"\n",
        "elif score >= 0 and score < 60:\n",
        "    grade = \"F\"\n",
        "else:\n",
        "    grade = \"Invalid score. Please enter a number between 0 and 100.\"\n",
        "print(\"Letter Grade:\", grade)\n"
      ],
      "metadata": {
        "id": "DxWPp7Dkh8y2"
      },
      "execution_count": null,
      "outputs": []
    },
    {
      "cell_type": "code",
      "source": [
        " #8\n",
        "x = [23, 'Python', 23.98]\n",
        "types = []\n",
        "for element in x:\n",
        "    types.append(type(element))\n",
        "print(x)\n",
        "print(types)\n"
      ],
      "metadata": {
        "colab": {
          "base_uri": "https://localhost:8080/"
        },
        "id": "ztVE3vj3E7gb",
        "outputId": "33a11117-46a5-4407-9d3f-04784ea72af5"
      },
      "execution_count": 1,
      "outputs": [
        {
          "output_type": "stream",
          "name": "stdout",
          "text": [
            "[23, 'Python', 23.98]\n",
            "[<class 'int'>, <class 'str'>, <class 'float'>]\n"
          ]
        }
      ]
    },
    {
      "cell_type": "code",
      "source": [
        "#9\n",
        "# Given sets and list\n",
        "IT_companies = {'Facebook', 'Google', 'Microsoft', 'Apple', 'IBM', 'Oracle', 'Amazon'}\n",
        "A = {19, 22, 24, 20, 25, 26}\n",
        "B = {19, 22, 20, 25, 26, 24, 28, 27}\n",
        "age = [22, 19, 24, 25, 26, 24, 25, 24]\n",
        "\n",
        "# 1. Find the length of the set IT_companies\n",
        "print(\"Length of IT_companies:\", len(IT_companies))\n",
        "\n",
        "# 2. Add 'Twitter' to IT_companies\n",
        "IT_companies.add('Twitter')\n",
        "print(\"After adding Twitter:\", IT_companies)\n",
        "\n",
        "# 3. Insert multiple IT companies at once\n",
        "IT_companies.update(['TCS', 'Infosys', 'Accenture'])\n",
        "print(\"After adding multiple companies:\", IT_companies)\n",
        "\n",
        "# 4. Remove one company from IT_companies\n",
        "IT_companies.remove('IBM')  # or any other existing company\n",
        "print(\"After removing IBM:\", IT_companies)\n",
        "\n",
        "# 5. Difference between remove and discard\n",
        "# remove() raises an error if the item does not exist\n",
        "# discard() does nothing if the item is not found\n",
        "\n",
        "# Example:\n",
        "# IT_companies.remove('NonExistent')  # This would raise KeyError\n",
        "IT_companies.discard('NonExistent')   # This does nothing\n",
        "\n",
        "# 6. Join A and B (Union)\n",
        "joined_set = A.union(B)\n",
        "print(\"Join A and B:\", joined_set)\n",
        "\n",
        "# 7. Find A intersection B\n",
        "intersection = A.intersection(B)\n",
        "print(\"A ∩ B:\", intersection)\n",
        "\n",
        "# 8. Is A subset of B?\n",
        "print(\"Is A subset of B?:\", A.issubset(B))\n",
        "\n",
        "# 9. Are A and B disjoint?\n",
        "print(\"Are A and B disjoint sets?:\", A.isdisjoint(B))\n",
        "\n",
        "# 10. Join A with B and B with A (same result as union)\n",
        "print(\"A union B:\", A.union(B))\n",
        "print(\"B union A:\", B.union(A))\n",
        "\n",
        "# 11. Symmetric difference between A and B\n",
        "print(\"Symmetric difference (A △ B):\", A.symmetric_difference(B))\n",
        "\n",
        "# 12. Delete the sets completely\n",
        "del A\n",
        "del B\n",
        "# print(A)  # This would raise NameError if you try after deletion\n",
        "\n",
        "# 13. Convert age list to set and compare lengths\n",
        "age_set = set(age)\n",
        "print(\"Original age list:\", age)\n",
        "print(\"Set from age list:\", age_set)\n",
        "print(\"Length of age list:\", len(age))\n",
        "print(\"Length of set:\", len(age_set))\n"
      ],
      "metadata": {
        "colab": {
          "base_uri": "https://localhost:8080/"
        },
        "id": "P1xblw6UHx4-",
        "outputId": "7fa16161-622c-4f92-fa73-af7d26370d14"
      },
      "execution_count": 2,
      "outputs": [
        {
          "output_type": "stream",
          "name": "stdout",
          "text": [
            "Length of IT_companies: 7\n",
            "After adding Twitter: {'IBM', 'Amazon', 'Facebook', 'Microsoft', 'Twitter', 'Google', 'Apple', 'Oracle'}\n",
            "After adding multiple companies: {'IBM', 'Google', 'Accenture', 'Apple', 'Amazon', 'Facebook', 'Twitter', 'Oracle', 'Infosys', 'TCS', 'Microsoft'}\n",
            "After removing IBM: {'Google', 'Accenture', 'Apple', 'Amazon', 'Facebook', 'Twitter', 'Oracle', 'Infosys', 'TCS', 'Microsoft'}\n",
            "Join A and B: {19, 20, 22, 24, 25, 26, 27, 28}\n",
            "A ∩ B: {19, 20, 22, 24, 25, 26}\n",
            "Is A subset of B?: True\n",
            "Are A and B disjoint sets?: False\n",
            "A union B: {19, 20, 22, 24, 25, 26, 27, 28}\n",
            "B union A: {19, 20, 22, 24, 25, 26, 27, 28}\n",
            "Symmetric difference (A △ B): {27, 28}\n",
            "Original age list: [22, 19, 24, 25, 26, 24, 25, 24]\n",
            "Set from age list: {19, 22, 24, 25, 26}\n",
            "Length of age list: 8\n",
            "Length of set: 5\n"
          ]
        }
      ]
    }
  ]
}